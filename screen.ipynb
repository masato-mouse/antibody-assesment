{
 "cells": [
  {
   "cell_type": "code",
   "execution_count": null,
   "id": "bbe0c03c",
   "metadata": {},
   "outputs": [],
   "source": [
    "import rdkit \n",
    "from rdkit import Chem\n",
    "from rdkit.Chem import Draw\n",
    "import py3Dmol\n",
    "from rdkit.Chem.Draw import IPythonConsole\n"
   ]
  },
  {
   "cell_type": "code",
   "execution_count": null,
   "id": "bdcbf9f0",
   "metadata": {},
   "outputs": [],
   "source": [
    "##before_convert\n",
    "##you write dilectory\n",
    "%cd \"your_dilectory\"\n",
    "##you write filename\n",
    "before_convert  = \"your_filename\"\n",
    "view = py3Dmol.view(js='https://3dmol.org/build/3Dmol.js',)\n",
    "py3Dmol.view(after_convert)\n",
    "view.addModel(open(before_convert,'r').read(),'pdb')\n",
    "view.setStyle({'model': -1}, {\"cartoon\": {'color': 'spectrum'}})"
   ]
  },
  {
   "cell_type": "code",
   "execution_count": null,
   "id": "ff6c206b",
   "metadata": {
    "pycharm": {
     "name": "#%%\n"
    }
   },
   "outputs": [],
   "source": [
    "##after_convert\n",
    "##you write dilectory\n",
    "%cd \"your_dilectory\"\n",
    "##you write filename\n",
    "after_convert  = \"your_filename\"\n",
    "view = py3Dmol.view(js='https://3dmol.org/build/3Dmol.js',)\n",
    "py3Dmol.view(after_convert)\n",
    "view.addModel(open(after_convert,'r').read(),'pdb')\n",
    "view.setStyle({'model': -1}, {\"cartoon\": {'color': 'spectrum'}})"
   ]
  },
  {
   "cell_type": "code",
   "execution_count": null,
   "outputs": [],
   "source": [
    "##express same screen\n",
    "!mkdir structure\n",
    "##before convert\n",
    "!copy ..\\other_folder\\your_filename .\\structure\\\n",
    "##after convert\n",
    "!copy ..\\other_folder\\your_filename .\\structure\\\n",
    "\n",
    "##you write dilectory\n",
    "%cd \"your_dilectory/structure\"\n",
    "before_convert = \"file_name\"\n",
    "after_convert  = \"file_name\"\n",
    "view = py3Dmol.view(js='https://3dmol.org/build/3Dmol.js',)\n",
    "\n",
    "py3Dmol.view(after_convert)\n",
    "py3Dmol.view(before_convert)\n",
    "\n",
    "##before_convert\n",
    "view.addModel(open(before_convert,'r').read(),'pdb')\n",
    "view.setStyle({'model': -1}, {\"cartoon\": {'color': 'spectrum'}})\n",
    "##after_convert\n",
    "view.addModel(open(after_convert,'r').read(),'pdb')\n",
    "view.setStyle({'model': -1}, {\"cartoon\": {'color': 'color'}})\n"
   ],
   "metadata": {
    "collapsed": false,
    "pycharm": {
     "name": "#%%\n"
    }
   }
  }
 ],
 "metadata": {
  "kernelspec": {
   "display_name": "Python 3",
   "language": "python",
   "name": "python3"
  },
  "language_info": {
   "codemirror_mode": {
    "name": "ipython",
    "version": 3
   },
   "file_extension": ".py",
   "mimetype": "text/x-python",
   "name": "python",
   "nbconvert_exporter": "python",
   "pygments_lexer": "ipython3",
   "version": "3.6.13"
  }
 },
 "nbformat": 4,
 "nbformat_minor": 5
}